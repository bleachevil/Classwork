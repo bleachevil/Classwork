{
 "cells": [
  {
   "cell_type": "code",
   "execution_count": null,
   "id": "205bb414-df3c-4d74-bef2-516d094d8027",
   "metadata": {},
   "outputs": [],
   "source": [
    "pip install pycoingecko"
   ]
  },
  {
   "cell_type": "code",
   "execution_count": null,
   "id": "d9dcb2f7-04bd-4ed8-84ad-53e1e212c253",
   "metadata": {},
   "outputs": [],
   "source": [
    "pip install datetime"
   ]
  },
  {
   "cell_type": "code",
   "execution_count": null,
   "id": "8a069be8-e058-463a-acf4-17e6ec54e8f4",
   "metadata": {},
   "outputs": [],
   "source": [
    "from pycoingecko import CoinGeckoAPI\n",
    "from datetime import datetime, time, date, timedelta\n",
    "cg = CoinGeckoAPI()"
   ]
  },
  {
   "cell_type": "code",
   "execution_count": null,
   "id": "4e50e16f-c708-4f65-8b0c-7efc30b13a5e",
   "metadata": {},
   "outputs": [],
   "source": []
  },
  {
   "cell_type": "code",
   "execution_count": null,
   "id": "e0f37c22-4776-43bb-972a-3e413c7f2d7e",
   "metadata": {},
   "outputs": [],
   "source": [
    "start_date = date(2021, 4, 9).strftime(\"%d-%m-%Y\")\n",
    "start_date"
   ]
  },
  {
   "cell_type": "code",
   "execution_count": null,
   "id": "b76d0eb0-8fbd-4f00-888d-bff0fa8edda4",
   "metadata": {},
   "outputs": [],
   "source": [
    "start_date = date(2021, 4, 9)\n",
    "end_date = date(2022, 4, 9)\n",
    "sub = []\n",
    "delta = timedelta(days=1)\n",
    "while start_date <= end_date:\n",
    "    start_date += delta\n",
    "    sd = start_date.strftime(\"%d-%m-%Y\")\n",
    "    subcount= cg.get_coin_history_by_id(id='ripple',date= sd, localization='false')\n",
    "    subscribers=subcount['developer_data']['subscribers']\n",
    "    sub.append(subscribers)\n",
    "print (sub)"
   ]
  },
  {
   "cell_type": "code",
   "execution_count": null,
   "id": "c629539d-337c-48c2-a5c7-2aa2628f619c",
   "metadata": {},
   "outputs": [],
   "source": [
    "start_date = date(2021, 4, 9)\n",
    "start_date.strftime(\"%d-%m-%Y\")"
   ]
  },
  {
   "cell_type": "code",
   "execution_count": null,
   "id": "5ed6c9b1-0cf0-4ee6-8d4e-1e7c9898b3d5",
   "metadata": {},
   "outputs": [],
   "source": []
  }
 ],
 "metadata": {
  "kernelspec": {
   "display_name": "Python 3 (ipykernel)",
   "language": "python",
   "name": "python3"
  },
  "language_info": {
   "codemirror_mode": {
    "name": "ipython",
    "version": 3
   },
   "file_extension": ".py",
   "mimetype": "text/x-python",
   "name": "python",
   "nbconvert_exporter": "python",
   "pygments_lexer": "ipython3",
   "version": "3.9.7"
  }
 },
 "nbformat": 4,
 "nbformat_minor": 5
}
