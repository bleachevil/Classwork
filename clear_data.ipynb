{
 "cells": [
  {
   "cell_type": "code",
   "execution_count": 78,
   "id": "77702d1a-2b06-43d0-a18b-62302a4d913f",
   "metadata": {},
   "outputs": [],
   "source": [
    "import pandas as pd\n",
    "import numpy\n",
    "import datetime as dt\n",
    "from pathlib import Path\n",
    "from Ratio import sharpe_rate"
   ]
  },
  {
   "cell_type": "code",
   "execution_count": 75,
   "id": "279c15b7-95ff-4d74-9430-c229712ed912",
   "metadata": {},
   "outputs": [
    {
     "data": {
      "text/html": [
       "<div>\n",
       "<style scoped>\n",
       "    .dataframe tbody tr th:only-of-type {\n",
       "        vertical-align: middle;\n",
       "    }\n",
       "\n",
       "    .dataframe tbody tr th {\n",
       "        vertical-align: top;\n",
       "    }\n",
       "\n",
       "    .dataframe thead th {\n",
       "        text-align: right;\n",
       "    }\n",
       "</style>\n",
       "<table border=\"1\" class=\"dataframe\">\n",
       "  <thead>\n",
       "    <tr style=\"text-align: right;\">\n",
       "      <th></th>\n",
       "      <th>Solana Price</th>\n",
       "    </tr>\n",
       "    <tr>\n",
       "      <th>Time</th>\n",
       "      <th></th>\n",
       "    </tr>\n",
       "  </thead>\n",
       "  <tbody>\n",
       "    <tr>\n",
       "      <th>2020-04-10</th>\n",
       "      <td>0.957606</td>\n",
       "    </tr>\n",
       "    <tr>\n",
       "      <th>2020-04-11</th>\n",
       "      <td>0.784711</td>\n",
       "    </tr>\n",
       "    <tr>\n",
       "      <th>2020-04-12</th>\n",
       "      <td>0.875994</td>\n",
       "    </tr>\n",
       "    <tr>\n",
       "      <th>2020-04-13</th>\n",
       "      <td>0.786712</td>\n",
       "    </tr>\n",
       "    <tr>\n",
       "      <th>2020-04-14</th>\n",
       "      <td>0.666673</td>\n",
       "    </tr>\n",
       "    <tr>\n",
       "      <th>...</th>\n",
       "      <td>...</td>\n",
       "    </tr>\n",
       "    <tr>\n",
       "      <th>2022-04-05</th>\n",
       "      <td>126.605680</td>\n",
       "    </tr>\n",
       "    <tr>\n",
       "      <th>2022-04-06</th>\n",
       "      <td>112.529026</td>\n",
       "    </tr>\n",
       "    <tr>\n",
       "      <th>2022-04-07</th>\n",
       "      <td>118.688395</td>\n",
       "    </tr>\n",
       "    <tr>\n",
       "      <th>2022-04-08</th>\n",
       "      <td>109.691488</td>\n",
       "    </tr>\n",
       "    <tr>\n",
       "      <th>2022-04-09</th>\n",
       "      <td>110.632802</td>\n",
       "    </tr>\n",
       "  </tbody>\n",
       "</table>\n",
       "<p>730 rows × 1 columns</p>\n",
       "</div>"
      ],
      "text/plain": [
       "            Solana Price\n",
       "Time                    \n",
       "2020-04-10      0.957606\n",
       "2020-04-11      0.784711\n",
       "2020-04-12      0.875994\n",
       "2020-04-13      0.786712\n",
       "2020-04-14      0.666673\n",
       "...                  ...\n",
       "2022-04-05    126.605680\n",
       "2022-04-06    112.529026\n",
       "2022-04-07    118.688395\n",
       "2022-04-08    109.691488\n",
       "2022-04-09    110.632802\n",
       "\n",
       "[730 rows x 1 columns]"
      ]
     },
     "execution_count": 75,
     "metadata": {},
     "output_type": "execute_result"
    }
   ],
   "source": [
    "price_df = pd.read_csv(\"Data/solona.csv\")\n",
    "price_df.drop(columns = ['Unnamed: 0'],inplace=True)\n",
    "price_df['Time'] = price_df['Time'] / 1000 -1000\n",
    "price_df['Time'] = pd.to_datetime(price_df['Time'], unit='s').apply(lambda x: x.strftime('%Y-%m-%d'))\n",
    "price_df.set_index('Time', inplace=True)\n",
    "#price_df.columns = ['close']\n",
    "#col = pd.MultiIndex.from_product([['solana'],price_df.columns])\n",
    "#price_df.columns = col\n",
    "price_df"
   ]
  },
  {
   "cell_type": "code",
   "execution_count": 80,
   "id": "7e8a41a9-ef86-4655-80a5-c9f630e47562",
   "metadata": {},
   "outputs": [
    {
     "data": {
      "text/plain": [
       "Solana Price    15.29773\n",
       "dtype: float64"
      ]
     },
     "execution_count": 80,
     "metadata": {},
     "output_type": "execute_result"
    }
   ],
   "source": [
    "sharpe_rate(price_df)"
   ]
  },
  {
   "cell_type": "code",
   "execution_count": null,
   "id": "3270443b-492b-4a83-9bfd-e01868c50674",
   "metadata": {},
   "outputs": [],
   "source": []
  }
 ],
 "metadata": {
  "kernelspec": {
   "display_name": "Python 3 (ipykernel)",
   "language": "python",
   "name": "python3"
  },
  "language_info": {
   "codemirror_mode": {
    "name": "ipython",
    "version": 3
   },
   "file_extension": ".py",
   "mimetype": "text/x-python",
   "name": "python",
   "nbconvert_exporter": "python",
   "pygments_lexer": "ipython3",
   "version": "3.9.7"
  }
 },
 "nbformat": 4,
 "nbformat_minor": 5
}
